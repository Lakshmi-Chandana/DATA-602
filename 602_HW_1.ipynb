{
  "nbformat": 4,
  "nbformat_minor": 0,
  "metadata": {
    "colab": {
      "name": "602_HW-1",
      "provenance": [],
      "collapsed_sections": [],
      "authorship_tag": "ABX9TyNnvehyHUisAnLK8w9Gmjob",
      "include_colab_link": true
    },
    "kernelspec": {
      "name": "python3",
      "display_name": "Python 3"
    },
    "language_info": {
      "name": "python"
    }
  },
  "cells": [
    {
      "cell_type": "markdown",
      "metadata": {
        "id": "view-in-github",
        "colab_type": "text"
      },
      "source": [
        "<a href=\"https://colab.research.google.com/github/Lakshmi-Chandana/DATA-602/blob/main/602_HW_1.ipynb\" target=\"_parent\"><img src=\"https://colab.research.google.com/assets/colab-badge.svg\" alt=\"Open In Colab\"/></a>"
      ]
    },
    {
      "cell_type": "code",
      "metadata": {
        "colab": {
          "base_uri": "https://localhost:8080/",
          "height": 273
        },
        "id": "JC-lGD4rMtI_",
        "outputId": "dabe174a-c025-4616-e3a6-65437f5b0c41"
      },
      "source": [
        "import pandas as pd\n",
        "housing = pd.read_csv('housing_processed.csv')\n",
        "housing.head()"
      ],
      "execution_count": 1,
      "outputs": [
        {
          "output_type": "execute_result",
          "data": {
            "text/html": [
              "<div>\n",
              "<style scoped>\n",
              "    .dataframe tbody tr th:only-of-type {\n",
              "        vertical-align: middle;\n",
              "    }\n",
              "\n",
              "    .dataframe tbody tr th {\n",
              "        vertical-align: top;\n",
              "    }\n",
              "\n",
              "    .dataframe thead th {\n",
              "        text-align: right;\n",
              "    }\n",
              "</style>\n",
              "<table border=\"1\" class=\"dataframe\">\n",
              "  <thead>\n",
              "    <tr style=\"text-align: right;\">\n",
              "      <th></th>\n",
              "      <th>Id</th>\n",
              "      <th>MSSubClass</th>\n",
              "      <th>LotFrontage</th>\n",
              "      <th>LotArea</th>\n",
              "      <th>OverallQual</th>\n",
              "      <th>OverallCond</th>\n",
              "      <th>YearBuilt</th>\n",
              "      <th>YearRemodAdd</th>\n",
              "      <th>MasVnrArea</th>\n",
              "      <th>ExterQual</th>\n",
              "      <th>ExterCond</th>\n",
              "      <th>BsmtQual</th>\n",
              "      <th>BsmtCond</th>\n",
              "      <th>BsmtExposure</th>\n",
              "      <th>BsmtFinType1</th>\n",
              "      <th>BsmtFinSF1</th>\n",
              "      <th>BsmtFinType2</th>\n",
              "      <th>BsmtFinSF2</th>\n",
              "      <th>BsmtUnfSF</th>\n",
              "      <th>TotalBsmtSF</th>\n",
              "      <th>HeatingQC</th>\n",
              "      <th>CentralAir</th>\n",
              "      <th>1stFlrSF</th>\n",
              "      <th>2ndFlrSF</th>\n",
              "      <th>LowQualFinSF</th>\n",
              "      <th>GrLivArea</th>\n",
              "      <th>BsmtFullBath</th>\n",
              "      <th>BsmtHalfBath</th>\n",
              "      <th>FullBath</th>\n",
              "      <th>HalfBath</th>\n",
              "      <th>BedroomAbvGr</th>\n",
              "      <th>KitchenAbvGr</th>\n",
              "      <th>KitchenQual</th>\n",
              "      <th>TotRmsAbvGrd</th>\n",
              "      <th>Functional</th>\n",
              "      <th>Fireplaces</th>\n",
              "      <th>FireplaceQu</th>\n",
              "      <th>GarageFinish</th>\n",
              "      <th>GarageCars</th>\n",
              "      <th>GarageArea</th>\n",
              "      <th>...</th>\n",
              "      <th>Exterior2nd_Wd Sdng</th>\n",
              "      <th>Exterior2nd_Wd Shng</th>\n",
              "      <th>MasVnrType_0</th>\n",
              "      <th>MasVnrType_BrkCmn</th>\n",
              "      <th>MasVnrType_BrkFace</th>\n",
              "      <th>MasVnrType_None</th>\n",
              "      <th>MasVnrType_Stone</th>\n",
              "      <th>Foundation_BrkTil</th>\n",
              "      <th>Foundation_CBlock</th>\n",
              "      <th>Foundation_PConc</th>\n",
              "      <th>Foundation_Slab</th>\n",
              "      <th>Foundation_Stone</th>\n",
              "      <th>Foundation_Wood</th>\n",
              "      <th>Heating_Floor</th>\n",
              "      <th>Heating_GasA</th>\n",
              "      <th>Heating_GasW</th>\n",
              "      <th>Heating_Grav</th>\n",
              "      <th>Heating_OthW</th>\n",
              "      <th>Heating_Wall</th>\n",
              "      <th>Electrical_FuseA</th>\n",
              "      <th>Electrical_FuseF</th>\n",
              "      <th>Electrical_FuseP</th>\n",
              "      <th>Electrical_Mix</th>\n",
              "      <th>Electrical_SBrkr</th>\n",
              "      <th>GarageType_2Types</th>\n",
              "      <th>GarageType_Attchd</th>\n",
              "      <th>GarageType_Basment</th>\n",
              "      <th>GarageType_BuiltIn</th>\n",
              "      <th>GarageType_CarPort</th>\n",
              "      <th>GarageType_Detchd</th>\n",
              "      <th>GarageType_NA</th>\n",
              "      <th>SaleType_COD</th>\n",
              "      <th>SaleType_CWD</th>\n",
              "      <th>SaleType_Con</th>\n",
              "      <th>SaleType_ConLD</th>\n",
              "      <th>SaleType_ConLI</th>\n",
              "      <th>SaleType_ConLw</th>\n",
              "      <th>SaleType_New</th>\n",
              "      <th>SaleType_Oth</th>\n",
              "      <th>SaleType_WD</th>\n",
              "    </tr>\n",
              "  </thead>\n",
              "  <tbody>\n",
              "    <tr>\n",
              "      <th>0</th>\n",
              "      <td>1</td>\n",
              "      <td>60</td>\n",
              "      <td>65.0</td>\n",
              "      <td>8450</td>\n",
              "      <td>7</td>\n",
              "      <td>5</td>\n",
              "      <td>2003</td>\n",
              "      <td>2003</td>\n",
              "      <td>196.0</td>\n",
              "      <td>Gd</td>\n",
              "      <td>TA</td>\n",
              "      <td>Gd</td>\n",
              "      <td>TA</td>\n",
              "      <td>No</td>\n",
              "      <td>GLQ</td>\n",
              "      <td>706</td>\n",
              "      <td>Unf</td>\n",
              "      <td>0</td>\n",
              "      <td>150</td>\n",
              "      <td>856</td>\n",
              "      <td>Ex</td>\n",
              "      <td>Y</td>\n",
              "      <td>856</td>\n",
              "      <td>854</td>\n",
              "      <td>0</td>\n",
              "      <td>1710</td>\n",
              "      <td>1</td>\n",
              "      <td>0</td>\n",
              "      <td>2</td>\n",
              "      <td>1</td>\n",
              "      <td>3</td>\n",
              "      <td>1</td>\n",
              "      <td>Gd</td>\n",
              "      <td>8</td>\n",
              "      <td>Typ</td>\n",
              "      <td>0</td>\n",
              "      <td>NaN</td>\n",
              "      <td>RFn</td>\n",
              "      <td>2</td>\n",
              "      <td>548</td>\n",
              "      <td>...</td>\n",
              "      <td>0</td>\n",
              "      <td>0</td>\n",
              "      <td>0</td>\n",
              "      <td>0</td>\n",
              "      <td>1</td>\n",
              "      <td>0</td>\n",
              "      <td>0</td>\n",
              "      <td>0</td>\n",
              "      <td>0</td>\n",
              "      <td>1</td>\n",
              "      <td>0</td>\n",
              "      <td>0</td>\n",
              "      <td>0</td>\n",
              "      <td>0</td>\n",
              "      <td>1</td>\n",
              "      <td>0</td>\n",
              "      <td>0</td>\n",
              "      <td>0</td>\n",
              "      <td>0</td>\n",
              "      <td>0</td>\n",
              "      <td>0</td>\n",
              "      <td>0</td>\n",
              "      <td>0</td>\n",
              "      <td>1</td>\n",
              "      <td>0</td>\n",
              "      <td>1</td>\n",
              "      <td>0</td>\n",
              "      <td>0</td>\n",
              "      <td>0</td>\n",
              "      <td>0</td>\n",
              "      <td>0</td>\n",
              "      <td>0</td>\n",
              "      <td>0</td>\n",
              "      <td>0</td>\n",
              "      <td>0</td>\n",
              "      <td>0</td>\n",
              "      <td>0</td>\n",
              "      <td>0</td>\n",
              "      <td>0</td>\n",
              "      <td>1</td>\n",
              "    </tr>\n",
              "    <tr>\n",
              "      <th>1</th>\n",
              "      <td>2</td>\n",
              "      <td>20</td>\n",
              "      <td>80.0</td>\n",
              "      <td>9600</td>\n",
              "      <td>6</td>\n",
              "      <td>8</td>\n",
              "      <td>1976</td>\n",
              "      <td>1976</td>\n",
              "      <td>0.0</td>\n",
              "      <td>TA</td>\n",
              "      <td>TA</td>\n",
              "      <td>Gd</td>\n",
              "      <td>TA</td>\n",
              "      <td>Gd</td>\n",
              "      <td>ALQ</td>\n",
              "      <td>978</td>\n",
              "      <td>Unf</td>\n",
              "      <td>0</td>\n",
              "      <td>284</td>\n",
              "      <td>1262</td>\n",
              "      <td>Ex</td>\n",
              "      <td>Y</td>\n",
              "      <td>1262</td>\n",
              "      <td>0</td>\n",
              "      <td>0</td>\n",
              "      <td>1262</td>\n",
              "      <td>0</td>\n",
              "      <td>1</td>\n",
              "      <td>2</td>\n",
              "      <td>0</td>\n",
              "      <td>3</td>\n",
              "      <td>1</td>\n",
              "      <td>TA</td>\n",
              "      <td>6</td>\n",
              "      <td>Typ</td>\n",
              "      <td>1</td>\n",
              "      <td>TA</td>\n",
              "      <td>RFn</td>\n",
              "      <td>2</td>\n",
              "      <td>460</td>\n",
              "      <td>...</td>\n",
              "      <td>0</td>\n",
              "      <td>0</td>\n",
              "      <td>0</td>\n",
              "      <td>0</td>\n",
              "      <td>0</td>\n",
              "      <td>1</td>\n",
              "      <td>0</td>\n",
              "      <td>0</td>\n",
              "      <td>1</td>\n",
              "      <td>0</td>\n",
              "      <td>0</td>\n",
              "      <td>0</td>\n",
              "      <td>0</td>\n",
              "      <td>0</td>\n",
              "      <td>1</td>\n",
              "      <td>0</td>\n",
              "      <td>0</td>\n",
              "      <td>0</td>\n",
              "      <td>0</td>\n",
              "      <td>0</td>\n",
              "      <td>0</td>\n",
              "      <td>0</td>\n",
              "      <td>0</td>\n",
              "      <td>1</td>\n",
              "      <td>0</td>\n",
              "      <td>1</td>\n",
              "      <td>0</td>\n",
              "      <td>0</td>\n",
              "      <td>0</td>\n",
              "      <td>0</td>\n",
              "      <td>0</td>\n",
              "      <td>0</td>\n",
              "      <td>0</td>\n",
              "      <td>0</td>\n",
              "      <td>0</td>\n",
              "      <td>0</td>\n",
              "      <td>0</td>\n",
              "      <td>0</td>\n",
              "      <td>0</td>\n",
              "      <td>1</td>\n",
              "    </tr>\n",
              "    <tr>\n",
              "      <th>2</th>\n",
              "      <td>3</td>\n",
              "      <td>60</td>\n",
              "      <td>68.0</td>\n",
              "      <td>11250</td>\n",
              "      <td>7</td>\n",
              "      <td>5</td>\n",
              "      <td>2001</td>\n",
              "      <td>2002</td>\n",
              "      <td>162.0</td>\n",
              "      <td>Gd</td>\n",
              "      <td>TA</td>\n",
              "      <td>Gd</td>\n",
              "      <td>TA</td>\n",
              "      <td>Mn</td>\n",
              "      <td>GLQ</td>\n",
              "      <td>486</td>\n",
              "      <td>Unf</td>\n",
              "      <td>0</td>\n",
              "      <td>434</td>\n",
              "      <td>920</td>\n",
              "      <td>Ex</td>\n",
              "      <td>Y</td>\n",
              "      <td>920</td>\n",
              "      <td>866</td>\n",
              "      <td>0</td>\n",
              "      <td>1786</td>\n",
              "      <td>1</td>\n",
              "      <td>0</td>\n",
              "      <td>2</td>\n",
              "      <td>1</td>\n",
              "      <td>3</td>\n",
              "      <td>1</td>\n",
              "      <td>Gd</td>\n",
              "      <td>6</td>\n",
              "      <td>Typ</td>\n",
              "      <td>1</td>\n",
              "      <td>TA</td>\n",
              "      <td>RFn</td>\n",
              "      <td>2</td>\n",
              "      <td>608</td>\n",
              "      <td>...</td>\n",
              "      <td>0</td>\n",
              "      <td>0</td>\n",
              "      <td>0</td>\n",
              "      <td>0</td>\n",
              "      <td>1</td>\n",
              "      <td>0</td>\n",
              "      <td>0</td>\n",
              "      <td>0</td>\n",
              "      <td>0</td>\n",
              "      <td>1</td>\n",
              "      <td>0</td>\n",
              "      <td>0</td>\n",
              "      <td>0</td>\n",
              "      <td>0</td>\n",
              "      <td>1</td>\n",
              "      <td>0</td>\n",
              "      <td>0</td>\n",
              "      <td>0</td>\n",
              "      <td>0</td>\n",
              "      <td>0</td>\n",
              "      <td>0</td>\n",
              "      <td>0</td>\n",
              "      <td>0</td>\n",
              "      <td>1</td>\n",
              "      <td>0</td>\n",
              "      <td>1</td>\n",
              "      <td>0</td>\n",
              "      <td>0</td>\n",
              "      <td>0</td>\n",
              "      <td>0</td>\n",
              "      <td>0</td>\n",
              "      <td>0</td>\n",
              "      <td>0</td>\n",
              "      <td>0</td>\n",
              "      <td>0</td>\n",
              "      <td>0</td>\n",
              "      <td>0</td>\n",
              "      <td>0</td>\n",
              "      <td>0</td>\n",
              "      <td>1</td>\n",
              "    </tr>\n",
              "    <tr>\n",
              "      <th>3</th>\n",
              "      <td>4</td>\n",
              "      <td>70</td>\n",
              "      <td>60.0</td>\n",
              "      <td>9550</td>\n",
              "      <td>7</td>\n",
              "      <td>5</td>\n",
              "      <td>1915</td>\n",
              "      <td>1970</td>\n",
              "      <td>0.0</td>\n",
              "      <td>TA</td>\n",
              "      <td>TA</td>\n",
              "      <td>TA</td>\n",
              "      <td>Gd</td>\n",
              "      <td>No</td>\n",
              "      <td>ALQ</td>\n",
              "      <td>216</td>\n",
              "      <td>Unf</td>\n",
              "      <td>0</td>\n",
              "      <td>540</td>\n",
              "      <td>756</td>\n",
              "      <td>Gd</td>\n",
              "      <td>Y</td>\n",
              "      <td>961</td>\n",
              "      <td>756</td>\n",
              "      <td>0</td>\n",
              "      <td>1717</td>\n",
              "      <td>1</td>\n",
              "      <td>0</td>\n",
              "      <td>1</td>\n",
              "      <td>0</td>\n",
              "      <td>3</td>\n",
              "      <td>1</td>\n",
              "      <td>Gd</td>\n",
              "      <td>7</td>\n",
              "      <td>Typ</td>\n",
              "      <td>1</td>\n",
              "      <td>Gd</td>\n",
              "      <td>Unf</td>\n",
              "      <td>3</td>\n",
              "      <td>642</td>\n",
              "      <td>...</td>\n",
              "      <td>0</td>\n",
              "      <td>1</td>\n",
              "      <td>0</td>\n",
              "      <td>0</td>\n",
              "      <td>0</td>\n",
              "      <td>1</td>\n",
              "      <td>0</td>\n",
              "      <td>1</td>\n",
              "      <td>0</td>\n",
              "      <td>0</td>\n",
              "      <td>0</td>\n",
              "      <td>0</td>\n",
              "      <td>0</td>\n",
              "      <td>0</td>\n",
              "      <td>1</td>\n",
              "      <td>0</td>\n",
              "      <td>0</td>\n",
              "      <td>0</td>\n",
              "      <td>0</td>\n",
              "      <td>0</td>\n",
              "      <td>0</td>\n",
              "      <td>0</td>\n",
              "      <td>0</td>\n",
              "      <td>1</td>\n",
              "      <td>0</td>\n",
              "      <td>0</td>\n",
              "      <td>0</td>\n",
              "      <td>0</td>\n",
              "      <td>0</td>\n",
              "      <td>1</td>\n",
              "      <td>0</td>\n",
              "      <td>0</td>\n",
              "      <td>0</td>\n",
              "      <td>0</td>\n",
              "      <td>0</td>\n",
              "      <td>0</td>\n",
              "      <td>0</td>\n",
              "      <td>0</td>\n",
              "      <td>0</td>\n",
              "      <td>1</td>\n",
              "    </tr>\n",
              "    <tr>\n",
              "      <th>4</th>\n",
              "      <td>5</td>\n",
              "      <td>60</td>\n",
              "      <td>84.0</td>\n",
              "      <td>14260</td>\n",
              "      <td>8</td>\n",
              "      <td>5</td>\n",
              "      <td>2000</td>\n",
              "      <td>2000</td>\n",
              "      <td>350.0</td>\n",
              "      <td>Gd</td>\n",
              "      <td>TA</td>\n",
              "      <td>Gd</td>\n",
              "      <td>TA</td>\n",
              "      <td>Av</td>\n",
              "      <td>GLQ</td>\n",
              "      <td>655</td>\n",
              "      <td>Unf</td>\n",
              "      <td>0</td>\n",
              "      <td>490</td>\n",
              "      <td>1145</td>\n",
              "      <td>Ex</td>\n",
              "      <td>Y</td>\n",
              "      <td>1145</td>\n",
              "      <td>1053</td>\n",
              "      <td>0</td>\n",
              "      <td>2198</td>\n",
              "      <td>1</td>\n",
              "      <td>0</td>\n",
              "      <td>2</td>\n",
              "      <td>1</td>\n",
              "      <td>4</td>\n",
              "      <td>1</td>\n",
              "      <td>Gd</td>\n",
              "      <td>9</td>\n",
              "      <td>Typ</td>\n",
              "      <td>1</td>\n",
              "      <td>TA</td>\n",
              "      <td>RFn</td>\n",
              "      <td>3</td>\n",
              "      <td>836</td>\n",
              "      <td>...</td>\n",
              "      <td>0</td>\n",
              "      <td>0</td>\n",
              "      <td>0</td>\n",
              "      <td>0</td>\n",
              "      <td>1</td>\n",
              "      <td>0</td>\n",
              "      <td>0</td>\n",
              "      <td>0</td>\n",
              "      <td>0</td>\n",
              "      <td>1</td>\n",
              "      <td>0</td>\n",
              "      <td>0</td>\n",
              "      <td>0</td>\n",
              "      <td>0</td>\n",
              "      <td>1</td>\n",
              "      <td>0</td>\n",
              "      <td>0</td>\n",
              "      <td>0</td>\n",
              "      <td>0</td>\n",
              "      <td>0</td>\n",
              "      <td>0</td>\n",
              "      <td>0</td>\n",
              "      <td>0</td>\n",
              "      <td>1</td>\n",
              "      <td>0</td>\n",
              "      <td>1</td>\n",
              "      <td>0</td>\n",
              "      <td>0</td>\n",
              "      <td>0</td>\n",
              "      <td>0</td>\n",
              "      <td>0</td>\n",
              "      <td>0</td>\n",
              "      <td>0</td>\n",
              "      <td>0</td>\n",
              "      <td>0</td>\n",
              "      <td>0</td>\n",
              "      <td>0</td>\n",
              "      <td>0</td>\n",
              "      <td>0</td>\n",
              "      <td>1</td>\n",
              "    </tr>\n",
              "  </tbody>\n",
              "</table>\n",
              "<p>5 rows × 238 columns</p>\n",
              "</div>"
            ],
            "text/plain": [
              "   Id  MSSubClass  LotFrontage  ...  SaleType_New  SaleType_Oth  SaleType_WD\n",
              "0   1          60         65.0  ...             0             0            1\n",
              "1   2          20         80.0  ...             0             0            1\n",
              "2   3          60         68.0  ...             0             0            1\n",
              "3   4          70         60.0  ...             0             0            1\n",
              "4   5          60         84.0  ...             0             0            1\n",
              "\n",
              "[5 rows x 238 columns]"
            ]
          },
          "metadata": {},
          "execution_count": 1
        }
      ]
    },
    {
      "cell_type": "code",
      "metadata": {
        "colab": {
          "base_uri": "https://localhost:8080/",
          "height": 206
        },
        "id": "X42lLpd4Nbn_",
        "outputId": "9aa23722-df2e-49ad-826d-bcf9e3183d50"
      },
      "source": [
        "housing[[\"ExterQual\",\"ExterQual_Coded\"]].head()"
      ],
      "execution_count": 2,
      "outputs": [
        {
          "output_type": "execute_result",
          "data": {
            "text/html": [
              "<div>\n",
              "<style scoped>\n",
              "    .dataframe tbody tr th:only-of-type {\n",
              "        vertical-align: middle;\n",
              "    }\n",
              "\n",
              "    .dataframe tbody tr th {\n",
              "        vertical-align: top;\n",
              "    }\n",
              "\n",
              "    .dataframe thead th {\n",
              "        text-align: right;\n",
              "    }\n",
              "</style>\n",
              "<table border=\"1\" class=\"dataframe\">\n",
              "  <thead>\n",
              "    <tr style=\"text-align: right;\">\n",
              "      <th></th>\n",
              "      <th>ExterQual</th>\n",
              "      <th>ExterQual_Coded</th>\n",
              "    </tr>\n",
              "  </thead>\n",
              "  <tbody>\n",
              "    <tr>\n",
              "      <th>0</th>\n",
              "      <td>Gd</td>\n",
              "      <td>3</td>\n",
              "    </tr>\n",
              "    <tr>\n",
              "      <th>1</th>\n",
              "      <td>TA</td>\n",
              "      <td>2</td>\n",
              "    </tr>\n",
              "    <tr>\n",
              "      <th>2</th>\n",
              "      <td>Gd</td>\n",
              "      <td>3</td>\n",
              "    </tr>\n",
              "    <tr>\n",
              "      <th>3</th>\n",
              "      <td>TA</td>\n",
              "      <td>2</td>\n",
              "    </tr>\n",
              "    <tr>\n",
              "      <th>4</th>\n",
              "      <td>Gd</td>\n",
              "      <td>3</td>\n",
              "    </tr>\n",
              "  </tbody>\n",
              "</table>\n",
              "</div>"
            ],
            "text/plain": [
              "  ExterQual  ExterQual_Coded\n",
              "0        Gd                3\n",
              "1        TA                2\n",
              "2        Gd                3\n",
              "3        TA                2\n",
              "4        Gd                3"
            ]
          },
          "metadata": {},
          "execution_count": 2
        }
      ]
    },
    {
      "cell_type": "code",
      "metadata": {
        "colab": {
          "base_uri": "https://localhost:8080/"
        },
        "id": "olXfUoDmNmhH",
        "outputId": "f366e328-9086-445f-bf0d-be570ab64d98"
      },
      "source": [
        "type(housing.dtypes==object)"
      ],
      "execution_count": 3,
      "outputs": [
        {
          "output_type": "execute_result",
          "data": {
            "text/plain": [
              "pandas.core.series.Series"
            ]
          },
          "metadata": {},
          "execution_count": 3
        }
      ]
    },
    {
      "cell_type": "code",
      "metadata": {
        "colab": {
          "base_uri": "https://localhost:8080/"
        },
        "id": "Y0F3q8PuNqnR",
        "outputId": "3ae3d696-6a8f-4914-ae06-5fb03eada266"
      },
      "source": [
        "housing.dtypes[housing.dtypes==object]"
      ],
      "execution_count": 4,
      "outputs": [
        {
          "output_type": "execute_result",
          "data": {
            "text/plain": [
              "ExterQual       object\n",
              "ExterCond       object\n",
              "BsmtQual        object\n",
              "BsmtCond        object\n",
              "BsmtExposure    object\n",
              "BsmtFinType1    object\n",
              "BsmtFinType2    object\n",
              "HeatingQC       object\n",
              "CentralAir      object\n",
              "KitchenQual     object\n",
              "Functional      object\n",
              "FireplaceQu     object\n",
              "GarageFinish    object\n",
              "GarageQual      object\n",
              "GarageCond      object\n",
              "PavedDrive      object\n",
              "dtype: object"
            ]
          },
          "metadata": {},
          "execution_count": 4
        }
      ]
    },
    {
      "cell_type": "code",
      "metadata": {
        "colab": {
          "base_uri": "https://localhost:8080/"
        },
        "id": "cvcR7zOsNw2M",
        "outputId": "c142bfdf-4c9b-4aa5-bb78-abe4833fe349"
      },
      "source": [
        "housing.dtypes[housing.dtypes==object].shape"
      ],
      "execution_count": 5,
      "outputs": [
        {
          "output_type": "execute_result",
          "data": {
            "text/plain": [
              "(16,)"
            ]
          },
          "metadata": {},
          "execution_count": 5
        }
      ]
    },
    {
      "cell_type": "code",
      "metadata": {
        "colab": {
          "base_uri": "https://localhost:8080/"
        },
        "id": "SVHRo2d2OUjl",
        "outputId": "e69e9a3c-3c06-4988-b959-d437b9a7fc85"
      },
      "source": [
        "\"SalePrice\" in housing.columns"
      ],
      "execution_count": 6,
      "outputs": [
        {
          "output_type": "execute_result",
          "data": {
            "text/plain": [
              "True"
            ]
          },
          "metadata": {},
          "execution_count": 6
        }
      ]
    },
    {
      "cell_type": "code",
      "metadata": {
        "colab": {
          "base_uri": "https://localhost:8080/"
        },
        "id": "hD3pJb6tOaA4",
        "outputId": "a7826829-0b38-4742-e7ac-83636b0b8781"
      },
      "source": [
        "len(housing.columns)"
      ],
      "execution_count": 7,
      "outputs": [
        {
          "output_type": "execute_result",
          "data": {
            "text/plain": [
              "238"
            ]
          },
          "metadata": {},
          "execution_count": 7
        }
      ]
    },
    {
      "cell_type": "code",
      "metadata": {
        "id": "knseuiK6OflE"
      },
      "source": [
        "housing_ml = housing.drop(columns=[\"ExterQual\"])"
      ],
      "execution_count": 8,
      "outputs": []
    },
    {
      "cell_type": "code",
      "metadata": {
        "id": "XvY1QNK8OtYs"
      },
      "source": [
        "housing_ml = housing.loc[:,housing.dtypes != object]"
      ],
      "execution_count": 9,
      "outputs": []
    },
    {
      "cell_type": "code",
      "metadata": {
        "colab": {
          "base_uri": "https://localhost:8080/"
        },
        "id": "DS033x3pOz9P",
        "outputId": "bfa74047-2c65-486f-80da-ebc02b9a9ff4"
      },
      "source": [
        "len(housing_ml.columns)"
      ],
      "execution_count": 10,
      "outputs": [
        {
          "output_type": "execute_result",
          "data": {
            "text/plain": [
              "222"
            ]
          },
          "metadata": {},
          "execution_count": 10
        }
      ]
    },
    {
      "cell_type": "code",
      "metadata": {
        "colab": {
          "base_uri": "https://localhost:8080/"
        },
        "id": "OcMW5g6HPxcl",
        "outputId": "d2bad11b-428e-455c-dd8a-e70b4e6d2385"
      },
      "source": [
        "housing_ml.shape"
      ],
      "execution_count": 11,
      "outputs": [
        {
          "output_type": "execute_result",
          "data": {
            "text/plain": [
              "(1460, 222)"
            ]
          },
          "metadata": {},
          "execution_count": 11
        }
      ]
    },
    {
      "cell_type": "code",
      "metadata": {
        "id": "AMoEix_WRh_M"
      },
      "source": [
        "# Split data as features and target\n",
        "# take \"SalePrice\" values into its own 1-D array \n",
        "sale_price = housing_ml.pop('SalePrice')"
      ],
      "execution_count": 12,
      "outputs": []
    },
    {
      "cell_type": "code",
      "metadata": {
        "colab": {
          "base_uri": "https://localhost:8080/"
        },
        "id": "W8MAo3JzRnmq",
        "outputId": "07daa98c-3c87-4508-b66b-400f71d7e258"
      },
      "source": [
        "type(sale_price)"
      ],
      "execution_count": 13,
      "outputs": [
        {
          "output_type": "execute_result",
          "data": {
            "text/plain": [
              "pandas.core.series.Series"
            ]
          },
          "metadata": {},
          "execution_count": 13
        }
      ]
    },
    {
      "cell_type": "code",
      "metadata": {
        "colab": {
          "base_uri": "https://localhost:8080/"
        },
        "id": "JF5OUXzkRsb4",
        "outputId": "b0c2a131-7049-493d-d98e-d04a09d42691"
      },
      "source": [
        "housing_ml.shape"
      ],
      "execution_count": 14,
      "outputs": [
        {
          "output_type": "execute_result",
          "data": {
            "text/plain": [
              "(1460, 221)"
            ]
          },
          "metadata": {},
          "execution_count": 14
        }
      ]
    },
    {
      "cell_type": "code",
      "metadata": {
        "colab": {
          "base_uri": "https://localhost:8080/"
        },
        "id": "rc_eoSiNRzCi",
        "outputId": "a1387ffa-1a13-4e94-c5af-67f60413aa0e"
      },
      "source": [
        "y = sale_price.values\n",
        "type(y)"
      ],
      "execution_count": 15,
      "outputs": [
        {
          "output_type": "execute_result",
          "data": {
            "text/plain": [
              "numpy.ndarray"
            ]
          },
          "metadata": {},
          "execution_count": 15
        }
      ]
    },
    {
      "cell_type": "code",
      "metadata": {
        "colab": {
          "base_uri": "https://localhost:8080/"
        },
        "id": "8Qyq7jukR_Cw",
        "outputId": "df5fe49f-8548-4c7d-9faa-ba7d88fb1f5c"
      },
      "source": [
        "y.shape"
      ],
      "execution_count": 16,
      "outputs": [
        {
          "output_type": "execute_result",
          "data": {
            "text/plain": [
              "(1460,)"
            ]
          },
          "metadata": {},
          "execution_count": 16
        }
      ]
    },
    {
      "cell_type": "code",
      "metadata": {
        "id": "2ePFOE1mSP-B"
      },
      "source": [
        "X = housing_ml.values"
      ],
      "execution_count": 17,
      "outputs": []
    },
    {
      "cell_type": "code",
      "metadata": {
        "colab": {
          "base_uri": "https://localhost:8080/"
        },
        "id": "rcOUnSINSSG6",
        "outputId": "a96d5df4-a129-4433-a2d5-5502b699e138"
      },
      "source": [
        "\n",
        "X.shape"
      ],
      "execution_count": 18,
      "outputs": [
        {
          "output_type": "execute_result",
          "data": {
            "text/plain": [
              "(1460, 221)"
            ]
          },
          "metadata": {},
          "execution_count": 18
        }
      ]
    },
    {
      "cell_type": "code",
      "metadata": {
        "colab": {
          "base_uri": "https://localhost:8080/"
        },
        "id": "9sgFJY7_SXPJ",
        "outputId": "fd7a619f-a15c-4b07-9a64-6ef83155ef74"
      },
      "source": [
        "X.shape[0] == y.shape[0]"
      ],
      "execution_count": 19,
      "outputs": [
        {
          "output_type": "execute_result",
          "data": {
            "text/plain": [
              "True"
            ]
          },
          "metadata": {},
          "execution_count": 19
        }
      ]
    },
    {
      "cell_type": "code",
      "metadata": {
        "id": "RxhiceJsSktl"
      },
      "source": [
        "# Import estimator\n",
        "from sklearn.dummy import DummyRegressor"
      ],
      "execution_count": 20,
      "outputs": []
    },
    {
      "cell_type": "code",
      "metadata": {
        "colab": {
          "base_uri": "https://localhost:8080/"
        },
        "id": "gpen6qucSvJ-",
        "outputId": "cb1d1dc6-4414-4529-c9ab-e76883fc581e"
      },
      "source": [
        "# Instantiate estimator\n",
        "# guess the mean every single time\n",
        "mean_reg = DummyRegressor(strategy='mean')\n",
        "# fit estimator\n",
        "mean_reg.fit(X, y)"
      ],
      "execution_count": 21,
      "outputs": [
        {
          "output_type": "execute_result",
          "data": {
            "text/plain": [
              "DummyRegressor(constant=None, quantile=None, strategy='mean')"
            ]
          },
          "metadata": {},
          "execution_count": 21
        }
      ]
    },
    {
      "cell_type": "code",
      "metadata": {
        "colab": {
          "base_uri": "https://localhost:8080/"
        },
        "id": "MOnFDo7PSy5h",
        "outputId": "1b2d923a-ed30-4a30-ad1f-4dba803de484"
      },
      "source": [
        "\n",
        "# predict\n",
        "mean_reg.predict(X)"
      ],
      "execution_count": 22,
      "outputs": [
        {
          "output_type": "execute_result",
          "data": {
            "text/plain": [
              "array([180921.19589041, 180921.19589041, 180921.19589041, ...,\n",
              "       180921.19589041, 180921.19589041, 180921.19589041])"
            ]
          },
          "metadata": {},
          "execution_count": 22
        }
      ]
    },
    {
      "cell_type": "code",
      "metadata": {
        "colab": {
          "base_uri": "https://localhost:8080/"
        },
        "id": "mYA6k7XpS41l",
        "outputId": "eacaaa6b-58df-4d57-90b5-3ef18e3a1dd1"
      },
      "source": [
        "mean_reg.score(X, y)"
      ],
      "execution_count": 23,
      "outputs": [
        {
          "output_type": "execute_result",
          "data": {
            "text/plain": [
              "0.0"
            ]
          },
          "metadata": {},
          "execution_count": 23
        }
      ]
    },
    {
      "cell_type": "code",
      "metadata": {
        "id": "QtsgaamJS9d7"
      },
      "source": [
        "\n",
        "from sklearn.linear_model import LinearRegression\n",
        "linear_model = LinearRegression()"
      ],
      "execution_count": 24,
      "outputs": []
    },
    {
      "cell_type": "code",
      "metadata": {
        "id": "_SgO-CMoTA6M"
      },
      "source": [
        "X_lf = housing_ml[['LotFrontage']]"
      ],
      "execution_count": 25,
      "outputs": []
    },
    {
      "cell_type": "code",
      "metadata": {
        "colab": {
          "base_uri": "https://localhost:8080/"
        },
        "id": "GHhkSQojTDwx",
        "outputId": "c1f9a243-7b19-4a4e-d0d8-5cf4c5a41936"
      },
      "source": [
        "linear_model.fit(X_lf, y)"
      ],
      "execution_count": 26,
      "outputs": [
        {
          "output_type": "execute_result",
          "data": {
            "text/plain": [
              "LinearRegression(copy_X=True, fit_intercept=True, n_jobs=None, normalize=False)"
            ]
          },
          "metadata": {},
          "execution_count": 26
        }
      ]
    },
    {
      "cell_type": "code",
      "metadata": {
        "id": "C7R9V-YbT7d1"
      },
      "source": [
        "y_pred = linear_model.predict(X_lf)"
      ],
      "execution_count": 27,
      "outputs": []
    },
    {
      "cell_type": "code",
      "metadata": {
        "colab": {
          "base_uri": "https://localhost:8080/"
        },
        "id": "MEoxilK6T_LF",
        "outputId": "235896b8-d8c0-4efb-cc98-53c9a17d7363"
      },
      "source": [
        "linear_model.score(X_lf, y)"
      ],
      "execution_count": 28,
      "outputs": [
        {
          "output_type": "execute_result",
          "data": {
            "text/plain": [
              "0.11215612336205594"
            ]
          },
          "metadata": {},
          "execution_count": 28
        }
      ]
    },
    {
      "cell_type": "code",
      "metadata": {
        "id": "duOeM5-NUDwn"
      },
      "source": [
        "import matplotlib.pyplot as plt\n",
        "%matplotlib inline"
      ],
      "execution_count": 29,
      "outputs": []
    },
    {
      "cell_type": "code",
      "metadata": {
        "colab": {
          "base_uri": "https://localhost:8080/",
          "height": 320
        },
        "id": "BuBVuUhnUMNd",
        "outputId": "602700c8-f1d9-4022-a43a-191b026f82ee"
      },
      "source": [
        "plt.figure(figsize=(12, 5))\n",
        "plt.scatter(y, y_pred);"
      ],
      "execution_count": 30,
      "outputs": [
        {
          "output_type": "display_data",
          "data": {
            "image/png": "[encoded data removed]",
            "text/plain": [
              "<Figure size 864x360 with 1 Axes>"
            ]
          },
          "metadata": {
            "needs_background": "light"
          }
        }
      ]
    },
    {
      "cell_type": "code",
      "metadata": {
        "colab": {
          "base_uri": "https://localhost:8080/",
          "height": 282
        },
        "id": "4N-UpATIUP_r",
        "outputId": "cd2b4c53-d3d3-438f-c067-5551806dbfcb"
      },
      "source": [
        "plt.scatter(X_lf,y)\n",
        "plt.plot(X_lf,y_pred,'r--')"
      ],
      "execution_count": 31,
      "outputs": [
        {
          "output_type": "execute_result",
          "data": {
            "text/plain": [
              "[<matplotlib.lines.Line2D at 0x7fa4a3ce4090>]"
            ]
          },
          "metadata": {},
          "execution_count": 31
        },
        {
          "output_type": "display_data",
          "data": {
            "image/png": "[encoded data removed]",
            "text/plain": [
              "<Figure size 432x288 with 1 Axes>"
            ]
          },
          "metadata": {
            "needs_background": "light"
          }
        }
      ]
    },
    {
      "cell_type": "code",
      "metadata": {
        "id": "xCoAWZyLUVOh"
      },
      "source": [
        "X_area = housing_ml[['GrLivArea']]"
      ],
      "execution_count": 32,
      "outputs": []
    },
    {
      "cell_type": "code",
      "metadata": {
        "colab": {
          "base_uri": "https://localhost:8080/"
        },
        "id": "w8XfoC8jUXhA",
        "outputId": "b9a922cf-dcfe-4b92-b942-570a6ef2433f"
      },
      "source": [
        "\n",
        "linear_model.fit(X_area, y)"
      ],
      "execution_count": 33,
      "outputs": [
        {
          "output_type": "execute_result",
          "data": {
            "text/plain": [
              "LinearRegression(copy_X=True, fit_intercept=True, n_jobs=None, normalize=False)"
            ]
          },
          "metadata": {},
          "execution_count": 33
        }
      ]
    },
    {
      "cell_type": "code",
      "metadata": {
        "colab": {
          "base_uri": "https://localhost:8080/"
        },
        "id": "4PxyXteiUavH",
        "outputId": "edb9f713-e14c-414e-fa4e-0648183191b0"
      },
      "source": [
        "y_pred2 = linear_model.predict(X_area)\n",
        "linear_model.score(X_area, y)"
      ],
      "execution_count": 34,
      "outputs": [
        {
          "output_type": "execute_result",
          "data": {
            "text/plain": [
              "0.5021486502718042"
            ]
          },
          "metadata": {},
          "execution_count": 34
        }
      ]
    },
    {
      "cell_type": "code",
      "metadata": {
        "colab": {
          "base_uri": "https://localhost:8080/",
          "height": 320
        },
        "id": "IVOby-ueUdsd",
        "outputId": "b29e5e30-ec66-4196-b4da-deeeee7c6b24"
      },
      "source": [
        "plt.figure(figsize=(12, 5))\n",
        "plt.scatter(y, y_pred2); # blue obviously better\n",
        "plt.scatter(y, y_pred); # orange"
      ],
      "execution_count": 35,
      "outputs": [
        {
          "output_type": "display_data",
          "data": {
            "image/png": "[encoded data removed]",
            "text/plain": [
              "<Figure size 864x360 with 1 Axes>"
            ]
          },
          "metadata": {
            "needs_background": "light"
          }
        }
      ]
    },
    {
      "cell_type": "code",
      "metadata": {
        "colab": {
          "base_uri": "https://localhost:8080/"
        },
        "id": "rwZMUjbzUgri",
        "outputId": "dcf1876f-9194-4217-93ab-57e78abe3c87"
      },
      "source": [
        "\n",
        "# We had 81 columns (80 features) in original dataset,\n",
        "# coded as 221 features!\n",
        "X.shape"
      ],
      "execution_count": 36,
      "outputs": [
        {
          "output_type": "execute_result",
          "data": {
            "text/plain": [
              "(1460, 221)"
            ]
          },
          "metadata": {},
          "execution_count": 36
        }
      ]
    },
    {
      "cell_type": "code",
      "metadata": {
        "colab": {
          "base_uri": "https://localhost:8080/"
        },
        "id": "_UDnbzwiUjse",
        "outputId": "b5896735-7fff-4465-aff6-fe2b6c2eee14"
      },
      "source": [
        "linear_model.fit(X, y)"
      ],
      "execution_count": 37,
      "outputs": [
        {
          "output_type": "execute_result",
          "data": {
            "text/plain": [
              "LinearRegression(copy_X=True, fit_intercept=True, n_jobs=None, normalize=False)"
            ]
          },
          "metadata": {},
          "execution_count": 37
        }
      ]
    },
    {
      "cell_type": "code",
      "metadata": {
        "id": "CDROvDCsUmZR"
      },
      "source": [
        "y_pred3 = linear_model.predict(X)"
      ],
      "execution_count": 38,
      "outputs": []
    },
    {
      "cell_type": "code",
      "metadata": {
        "colab": {
          "base_uri": "https://localhost:8080/"
        },
        "id": "So8Hz6-bU_uG",
        "outputId": "c4487304-338f-42dc-c5c6-7d1a55508ae4"
      },
      "source": [
        "linear_model.score(X, y)"
      ],
      "execution_count": 39,
      "outputs": [
        {
          "output_type": "execute_result",
          "data": {
            "text/plain": [
              "0.9184728890914108"
            ]
          },
          "metadata": {},
          "execution_count": 39
        }
      ]
    },
    {
      "cell_type": "code",
      "metadata": {
        "colab": {
          "base_uri": "https://localhost:8080/",
          "height": 320
        },
        "id": "xdU324rrVCFE",
        "outputId": "9abeca26-ade1-4f67-9f0f-ddcb7b79dadb"
      },
      "source": [
        "\n",
        "plt.figure(figsize=(12, 5))\n",
        "plt.scatter(y_pred3, y);"
      ],
      "execution_count": 40,
      "outputs": [
        {
          "output_type": "display_data",
          "data": {
            "image/png": "[encoded data removed]",
            "text/plain": [
              "<Figure size 864x360 with 1 Axes>"
            ]
          },
          "metadata": {
            "needs_background": "light"
          }
        }
      ]
    },
    {
      "cell_type": "markdown",
      "metadata": {
        "id": "_VKiJoi6zBGQ"
      },
      "source": [
        "#**Homework**\n",
        "###Splitting the data for training and testing data to use 80% as training data."
      ]
    },
    {
      "cell_type": "code",
      "metadata": {
        "colab": {
          "base_uri": "https://localhost:8080/"
        },
        "id": "BydzTf2pyoWh",
        "outputId": "ca274c76-4a30-48a0-8a76-f75cf1dd2de0"
      },
      "source": [
        "#Initially just checking the shape of the actual dataset\n",
        "\n",
        "housing.shape"
      ],
      "execution_count": 41,
      "outputs": [
        {
          "output_type": "execute_result",
          "data": {
            "text/plain": [
              "(1460, 238)"
            ]
          },
          "metadata": {},
          "execution_count": 41
        }
      ]
    },
    {
      "cell_type": "code",
      "metadata": {
        "colab": {
          "base_uri": "https://localhost:8080/"
        },
        "id": "AL4-wCPM6BmQ",
        "outputId": "048d3d3e-571b-482f-8168-365041167686"
      },
      "source": [
        "X.shape"
      ],
      "execution_count": 42,
      "outputs": [
        {
          "output_type": "execute_result",
          "data": {
            "text/plain": [
              "(1460, 221)"
            ]
          },
          "metadata": {},
          "execution_count": 42
        }
      ]
    },
    {
      "cell_type": "code",
      "metadata": {
        "colab": {
          "base_uri": "https://localhost:8080/"
        },
        "id": "swlJ7SuI6GHV",
        "outputId": "511bfef6-d994-4497-cad4-ba3230a52400"
      },
      "source": [
        "y.shape"
      ],
      "execution_count": 43,
      "outputs": [
        {
          "output_type": "execute_result",
          "data": {
            "text/plain": [
              "(1460,)"
            ]
          },
          "metadata": {},
          "execution_count": 43
        }
      ]
    },
    {
      "cell_type": "code",
      "metadata": {
        "id": "0UWYvEilyp04"
      },
      "source": [
        "from sklearn.model_selection import train_test_split        # importing the required library\n",
        "\n",
        "# x = housing_ml.values\n",
        "# y = sale_price.values\n",
        "\n",
        "x_train, x_test, y_train, y_test = train_test_split(X, y, train_size = 0.8, test_size = 0.2, random_state = 21)"
      ],
      "execution_count": 44,
      "outputs": []
    },
    {
      "cell_type": "code",
      "metadata": {
        "colab": {
          "base_uri": "https://localhost:8080/"
        },
        "id": "Lf-Nb_jy4H0n",
        "outputId": "527ea81b-4bd6-4774-db5d-4ebee6fd6a27"
      },
      "source": [
        "x_train"
      ],
      "execution_count": 45,
      "outputs": [
        {
          "output_type": "execute_result",
          "data": {
            "text/plain": [
              "array([[7.110e+02, 3.000e+01, 5.600e+01, ..., 0.000e+00, 0.000e+00,\n",
              "        1.000e+00],\n",
              "       [1.099e+03, 5.000e+01, 5.000e+01, ..., 0.000e+00, 0.000e+00,\n",
              "        1.000e+00],\n",
              "       [1.287e+03, 2.000e+01, 7.000e+01, ..., 0.000e+00, 0.000e+00,\n",
              "        1.000e+00],\n",
              "       ...,\n",
              "       [7.730e+02, 8.000e+01, 9.400e+01, ..., 0.000e+00, 0.000e+00,\n",
              "        1.000e+00],\n",
              "       [1.232e+03, 9.000e+01, 7.000e+01, ..., 0.000e+00, 0.000e+00,\n",
              "        1.000e+00],\n",
              "       [9.700e+02, 1.900e+02, 7.500e+01, ..., 0.000e+00, 0.000e+00,\n",
              "        0.000e+00]])"
            ]
          },
          "metadata": {},
          "execution_count": 45
        }
      ]
    },
    {
      "cell_type": "code",
      "metadata": {
        "colab": {
          "base_uri": "https://localhost:8080/"
        },
        "id": "2Her9UMJ4Jil",
        "outputId": "b5937b2d-9720-4989-c452-d65925055224"
      },
      "source": [
        "x_test"
      ],
      "execution_count": 46,
      "outputs": [
        {
          "output_type": "execute_result",
          "data": {
            "text/plain": [
              "array([[8.810e+02, 2.000e+01, 6.000e+01, ..., 0.000e+00, 0.000e+00,\n",
              "        1.000e+00],\n",
              "       [6.060e+02, 6.000e+01, 8.500e+01, ..., 0.000e+00, 0.000e+00,\n",
              "        1.000e+00],\n",
              "       [1.167e+03, 2.000e+01, 6.400e+01, ..., 0.000e+00, 0.000e+00,\n",
              "        1.000e+00],\n",
              "       ...,\n",
              "       [1.008e+03, 1.600e+02, 2.100e+01, ..., 0.000e+00, 0.000e+00,\n",
              "        1.000e+00],\n",
              "       [5.760e+02, 5.000e+01, 8.000e+01, ..., 0.000e+00, 0.000e+00,\n",
              "        0.000e+00],\n",
              "       [6.000e+02, 1.600e+02, 2.400e+01, ..., 0.000e+00, 0.000e+00,\n",
              "        0.000e+00]])"
            ]
          },
          "metadata": {},
          "execution_count": 46
        }
      ]
    },
    {
      "cell_type": "code",
      "metadata": {
        "colab": {
          "base_uri": "https://localhost:8080/"
        },
        "id": "s4ZNwb7j4L_w",
        "outputId": "2e04c916-1832-4b48-fda4-100b561f3c05"
      },
      "source": [
        "y_train"
      ],
      "execution_count": 47,
      "outputs": [
        {
          "output_type": "execute_result",
          "data": {
            "text/plain": [
              "array([ 52000, 128000, 143000, ..., 107000, 132500, 140000])"
            ]
          },
          "metadata": {},
          "execution_count": 47
        }
      ]
    },
    {
      "cell_type": "code",
      "metadata": {
        "colab": {
          "base_uri": "https://localhost:8080/"
        },
        "id": "BYqHuNI335js",
        "outputId": "6d14118b-2623-4d5b-fed9-14004c992127"
      },
      "source": [
        "y_test"
      ],
      "execution_count": 48,
      "outputs": [
        {
          "output_type": "execute_result",
          "data": {
            "text/plain": [
              "array([157000, 205000, 245350, 210000, 135000, 315500, 159895, 335000,\n",
              "       386250, 137500, 170000, 289000, 180000, 129000, 161000, 153000,\n",
              "       219210,  88000, 170000,  68500, 196000, 139000, 250580,  90350,\n",
              "       215000, 755000, 165000, 174900, 105000, 146800, 200500, 148000,\n",
              "       155000, 160000, 230000,  92900, 369900, 171500, 163990, 204750,\n",
              "       208300, 164000, 126175, 275000,  96500, 158000, 110000, 377426,\n",
              "       227875, 237000, 110000, 190000,  85000, 274000, 263435, 143000,\n",
              "        94500, 188500, 256000, 230000, 239000, 105000, 153500, 138800,\n",
              "       138500, 284000, 139000, 140000, 109008, 110000, 141000, 188000,\n",
              "       173000, 154900, 137500, 200000, 128000, 239000, 205000, 213500,\n",
              "       136900, 211000, 392000, 111250, 138000, 239686, 166000, 107500,\n",
              "       167500, 213000,  93000,  67000, 130250, 197000, 124500, 423000,\n",
              "       131000, 131000, 165500, 190000, 215000, 137900, 204000, 117500,\n",
              "       202500,  80000, 144000, 297000, 129000, 258000,  93500, 244600,\n",
              "       225000, 147000, 153500, 194500, 156500, 148000, 210000, 116000,\n",
              "       237000, 207500, 260000, 100000, 177000, 104000, 129900, 556581,\n",
              "       177000, 197900, 168000, 280000, 319900, 146500, 144900, 116000,\n",
              "       162900, 128950, 151000, 164700, 150000, 284000, 153000,  52500,\n",
              "       110000, 172400, 170000, 181000, 302000, 115000, 129000, 186000,\n",
              "        84500, 144000,  87000, 123500, 139400, 176500, 170000, 184750,\n",
              "       214000, 227000, 159500, 159000, 132500,  66500, 125000, 207500,\n",
              "        98000, 184000, 235000, 141000, 345000, 129500, 242000, 178000,\n",
              "       325000, 107500, 133000, 109000, 198900, 272000, 326000, 200624,\n",
              "       139000, 377500, 119900, 171000, 140000,  79000, 415298, 207500,\n",
              "       171000, 103600, 317000, 189000, 248328, 158000, 290000, 195000,\n",
              "       128000, 122500, 213250, 262280, 194000, 216000, 131500, 135000,\n",
              "       127000, 157000, 129000, 181000, 173000, 129500, 360000, 143750,\n",
              "       255000, 272000,  85500, 124000, 118500, 157000, 129000, 141000,\n",
              "       151000,  93500, 144500, 224900, 136500, 185900, 173900, 257000,\n",
              "        97000, 144152, 137000, 152000, 178740, 155000, 139400, 221000,\n",
              "       183200, 129900, 126000, 266500,  85400, 115000, 136500, 116900,\n",
              "       256300, 113000,  91300, 143500,  37900, 318061, 219500, 230000,\n",
              "       226000,  93000, 170000, 160000, 179000, 152000, 287090, 275000,\n",
              "       155000, 128500, 196000, 115000, 173000, 139950, 120000, 120500,\n",
              "        55000, 119500, 228000, 465000, 184100, 175000, 178000, 149500,\n",
              "        58500, 145000, 152000, 271900,  91000, 136000, 107900, 311500,\n",
              "       367294,  88000, 118500, 151000])"
            ]
          },
          "metadata": {},
          "execution_count": 48
        }
      ]
    },
    {
      "cell_type": "markdown",
      "metadata": {
        "id": "O7oFoa7bBtIw"
      },
      "source": [
        "### Analysis with Linear model"
      ]
    },
    {
      "cell_type": "code",
      "metadata": {
        "id": "eYk9OG9-BeL2"
      },
      "source": [
        "from sklearn.linear_model import LinearRegression     # importing\n",
        "\n",
        "linear_model = LinearRegression()                     # initializing"
      ],
      "execution_count": 49,
      "outputs": []
    },
    {
      "cell_type": "code",
      "metadata": {
        "id": "uoKtXPKjofCM"
      },
      "source": [
        "# taking one feature i.e., one column from the data\n",
        "\n",
        "X_ft1 = housing_ml[['LotArea']]"
      ],
      "execution_count": 50,
      "outputs": []
    },
    {
      "cell_type": "code",
      "metadata": {
        "colab": {
          "base_uri": "https://localhost:8080/"
        },
        "id": "SXdE5TuSxzu0",
        "outputId": "44d9b0b8-2303-4c5b-9e92-c586d8d598e6"
      },
      "source": [
        "X_ft1.shape"
      ],
      "execution_count": 51,
      "outputs": [
        {
          "output_type": "execute_result",
          "data": {
            "text/plain": [
              "(1460, 1)"
            ]
          },
          "metadata": {},
          "execution_count": 51
        }
      ]
    },
    {
      "cell_type": "code",
      "metadata": {
        "colab": {
          "base_uri": "https://localhost:8080/"
        },
        "id": "IB2oTpbZtjBj",
        "outputId": "9c3985f7-4536-4a0a-916b-7aad78ec09f3"
      },
      "source": [
        "y.shape"
      ],
      "execution_count": 52,
      "outputs": [
        {
          "output_type": "execute_result",
          "data": {
            "text/plain": [
              "(1460,)"
            ]
          },
          "metadata": {},
          "execution_count": 52
        }
      ]
    },
    {
      "cell_type": "code",
      "metadata": {
        "colab": {
          "base_uri": "https://localhost:8080/"
        },
        "id": "yU2WtGmryDP4",
        "outputId": "c7740df4-447c-488b-d439-e8c6c400f3ac"
      },
      "source": [
        "\n",
        "X_ft1.shape[0] == y.shape[0]"
      ],
      "execution_count": 53,
      "outputs": [
        {
          "output_type": "execute_result",
          "data": {
            "text/plain": [
              "True"
            ]
          },
          "metadata": {},
          "execution_count": 53
        }
      ]
    },
    {
      "cell_type": "code",
      "metadata": {
        "colab": {
          "base_uri": "https://localhost:8080/"
        },
        "id": "dKL_D7y7tjzT",
        "outputId": "aaecde58-204d-49be-84f5-2cb04777d9dc"
      },
      "source": [
        "# X_ft1 = housing_ml[['LotArea']]\n",
        "# y = sale_price.values\n",
        "\n",
        "linear_model.fit(X_ft1, y)"
      ],
      "execution_count": 54,
      "outputs": [
        {
          "output_type": "execute_result",
          "data": {
            "text/plain": [
              "LinearRegression(copy_X=True, fit_intercept=True, n_jobs=None, normalize=False)"
            ]
          },
          "metadata": {},
          "execution_count": 54
        }
      ]
    },
    {
      "cell_type": "code",
      "metadata": {
        "colab": {
          "base_uri": "https://localhost:8080/"
        },
        "id": "wCAl6uhRtskw",
        "outputId": "dfaf64d7-2a9a-49fd-c560-1779be56a1da"
      },
      "source": [
        "y_pd1 = linear_model.predict(X_ft1)\n",
        "y_pd1"
      ],
      "execution_count": 55,
      "outputs": [
        {
          "output_type": "execute_result",
          "data": {
            "text/plain": [
              "array([176580.91488881, 178995.88263327, 182460.83635359, ...,\n",
              "       177824.09828422, 179241.57935162, 179703.573181  ])"
            ]
          },
          "metadata": {},
          "execution_count": 55
        }
      ]
    },
    {
      "cell_type": "code",
      "metadata": {
        "colab": {
          "base_uri": "https://localhost:8080/"
        },
        "id": "0D9MJRyYt7Ic",
        "outputId": "d5e87bd5-6712-4649-ecf4-53bed822f5c7"
      },
      "source": [
        "linear_model.score(X_ft1, y)"
      ],
      "execution_count": 56,
      "outputs": [
        {
          "output_type": "execute_result",
          "data": {
            "text/plain": [
              "0.0696133153821118"
            ]
          },
          "metadata": {},
          "execution_count": 56
        }
      ]
    },
    {
      "cell_type": "code",
      "metadata": {
        "colab": {
          "base_uri": "https://localhost:8080/"
        },
        "id": "H3FZ-FPFWVgc",
        "outputId": "d238c109-16a0-423d-f786-05b0af6f7438"
      },
      "source": [
        "from sklearn.metrics import mean_squared_error\n",
        "import numpy as np\n",
        "\n",
        "X_ft1_array = X_ft1.to_numpy()\n",
        "\n",
        "print(mean_squared_error(X_ft1_array, y_pd1))\n",
        "print(np.sqrt(mean_squared_error(X_ft1_array, y_pd1)))"
      ],
      "execution_count": 76,
      "outputs": [
        {
          "output_type": "stream",
          "name": "stdout",
          "text": [
            "29158106894.49709\n",
            "170757.45048019747\n"
          ]
        }
      ]
    },
    {
      "cell_type": "code",
      "metadata": {
        "colab": {
          "base_uri": "https://localhost:8080/"
        },
        "id": "Wkf6TMUuuC2p",
        "outputId": "ea1f250e-eff3-4380-8463-559e42462ae0"
      },
      "source": [
        "p_variables = list(housing_ml.columns)\n",
        "p_variables"
      ],
      "execution_count": 59,
      "outputs": [
        {
          "output_type": "execute_result",
          "data": {
            "text/plain": [
              "['Id',\n",
              " 'MSSubClass',\n",
              " 'LotFrontage',\n",
              " 'LotArea',\n",
              " 'OverallQual',\n",
              " 'OverallCond',\n",
              " 'YearBuilt',\n",
              " 'YearRemodAdd',\n",
              " 'MasVnrArea',\n",
              " 'BsmtFinSF1',\n",
              " 'BsmtFinSF2',\n",
              " 'BsmtUnfSF',\n",
              " 'TotalBsmtSF',\n",
              " '1stFlrSF',\n",
              " '2ndFlrSF',\n",
              " 'LowQualFinSF',\n",
              " 'GrLivArea',\n",
              " 'BsmtFullBath',\n",
              " 'BsmtHalfBath',\n",
              " 'FullBath',\n",
              " 'HalfBath',\n",
              " 'BedroomAbvGr',\n",
              " 'KitchenAbvGr',\n",
              " 'TotRmsAbvGrd',\n",
              " 'Fireplaces',\n",
              " 'GarageCars',\n",
              " 'GarageArea',\n",
              " 'WoodDeckSF',\n",
              " 'OpenPorchSF',\n",
              " 'EnclosedPorch',\n",
              " '3SsnPorch',\n",
              " 'ScreenPorch',\n",
              " 'PoolArea',\n",
              " 'MiscVal',\n",
              " 'MoSold',\n",
              " 'YrSold',\n",
              " 'ExterQual_Coded',\n",
              " 'ExterCond_Coded',\n",
              " 'BsmtQual_Coded',\n",
              " 'BsmtCond_Coded',\n",
              " 'BsmtExposure_Coded',\n",
              " 'BsmtFinType1_Coded',\n",
              " 'BsmtFinType2_Coded',\n",
              " 'HeatingQC_Coded',\n",
              " 'KitchenQual_Coded',\n",
              " 'Functional_Coded',\n",
              " 'FireplaceQu_Coded',\n",
              " 'GarageFinish_Coded',\n",
              " 'GarageQual_Coded',\n",
              " 'GarageCond_Coded',\n",
              " 'PavedDrive_Coded',\n",
              " 'CentralAir_Coded',\n",
              " 'SaleCondition_Abnorml',\n",
              " 'SaleCondition_AdjLand',\n",
              " 'SaleCondition_Alloca',\n",
              " 'SaleCondition_Family',\n",
              " 'SaleCondition_Normal',\n",
              " 'SaleCondition_Partial',\n",
              " 'MSZoning_C (all)',\n",
              " 'MSZoning_FV',\n",
              " 'MSZoning_RH',\n",
              " 'MSZoning_RL',\n",
              " 'MSZoning_RM',\n",
              " 'Street_Grvl',\n",
              " 'Street_Pave',\n",
              " 'LotShape_IR1',\n",
              " 'LotShape_IR2',\n",
              " 'LotShape_IR3',\n",
              " 'LotShape_Reg',\n",
              " 'LandContour_Bnk',\n",
              " 'LandContour_HLS',\n",
              " 'LandContour_Low',\n",
              " 'LandContour_Lvl',\n",
              " 'Utilities_AllPub',\n",
              " 'Utilities_NoSeWa',\n",
              " 'LotConfig_Corner',\n",
              " 'LotConfig_CulDSac',\n",
              " 'LotConfig_FR2',\n",
              " 'LotConfig_FR3',\n",
              " 'LotConfig_Inside',\n",
              " 'LandSlope_Gtl',\n",
              " 'LandSlope_Mod',\n",
              " 'LandSlope_Sev',\n",
              " 'Neighborhood_Blmngtn',\n",
              " 'Neighborhood_Blueste',\n",
              " 'Neighborhood_BrDale',\n",
              " 'Neighborhood_BrkSide',\n",
              " 'Neighborhood_ClearCr',\n",
              " 'Neighborhood_CollgCr',\n",
              " 'Neighborhood_Crawfor',\n",
              " 'Neighborhood_Edwards',\n",
              " 'Neighborhood_Gilbert',\n",
              " 'Neighborhood_IDOTRR',\n",
              " 'Neighborhood_MeadowV',\n",
              " 'Neighborhood_Mitchel',\n",
              " 'Neighborhood_NAmes',\n",
              " 'Neighborhood_NPkVill',\n",
              " 'Neighborhood_NWAmes',\n",
              " 'Neighborhood_NoRidge',\n",
              " 'Neighborhood_NridgHt',\n",
              " 'Neighborhood_OldTown',\n",
              " 'Neighborhood_SWISU',\n",
              " 'Neighborhood_Sawyer',\n",
              " 'Neighborhood_SawyerW',\n",
              " 'Neighborhood_Somerst',\n",
              " 'Neighborhood_StoneBr',\n",
              " 'Neighborhood_Timber',\n",
              " 'Neighborhood_Veenker',\n",
              " 'Condition1_Artery',\n",
              " 'Condition1_Feedr',\n",
              " 'Condition1_Norm',\n",
              " 'Condition1_PosA',\n",
              " 'Condition1_PosN',\n",
              " 'Condition1_RRAe',\n",
              " 'Condition1_RRAn',\n",
              " 'Condition1_RRNe',\n",
              " 'Condition1_RRNn',\n",
              " 'Condition2_Artery',\n",
              " 'Condition2_Feedr',\n",
              " 'Condition2_Norm',\n",
              " 'Condition2_PosA',\n",
              " 'Condition2_PosN',\n",
              " 'Condition2_RRAe',\n",
              " 'Condition2_RRAn',\n",
              " 'Condition2_RRNn',\n",
              " 'BldgType_1Fam',\n",
              " 'BldgType_2fmCon',\n",
              " 'BldgType_Duplex',\n",
              " 'BldgType_Twnhs',\n",
              " 'BldgType_TwnhsE',\n",
              " 'HouseStyle_1.5Fin',\n",
              " 'HouseStyle_1.5Unf',\n",
              " 'HouseStyle_1Story',\n",
              " 'HouseStyle_2.5Fin',\n",
              " 'HouseStyle_2.5Unf',\n",
              " 'HouseStyle_2Story',\n",
              " 'HouseStyle_SFoyer',\n",
              " 'HouseStyle_SLvl',\n",
              " 'RoofStyle_Flat',\n",
              " 'RoofStyle_Gable',\n",
              " 'RoofStyle_Gambrel',\n",
              " 'RoofStyle_Hip',\n",
              " 'RoofStyle_Mansard',\n",
              " 'RoofStyle_Shed',\n",
              " 'RoofMatl_ClyTile',\n",
              " 'RoofMatl_CompShg',\n",
              " 'RoofMatl_Membran',\n",
              " 'RoofMatl_Metal',\n",
              " 'RoofMatl_Roll',\n",
              " 'RoofMatl_Tar&Grv',\n",
              " 'RoofMatl_WdShake',\n",
              " 'RoofMatl_WdShngl',\n",
              " 'Exterior1st_AsbShng',\n",
              " 'Exterior1st_AsphShn',\n",
              " 'Exterior1st_BrkComm',\n",
              " 'Exterior1st_BrkFace',\n",
              " 'Exterior1st_CBlock',\n",
              " 'Exterior1st_CemntBd',\n",
              " 'Exterior1st_HdBoard',\n",
              " 'Exterior1st_ImStucc',\n",
              " 'Exterior1st_MetalSd',\n",
              " 'Exterior1st_Plywood',\n",
              " 'Exterior1st_Stone',\n",
              " 'Exterior1st_Stucco',\n",
              " 'Exterior1st_VinylSd',\n",
              " 'Exterior1st_Wd Sdng',\n",
              " 'Exterior1st_WdShing',\n",
              " 'Exterior2nd_AsbShng',\n",
              " 'Exterior2nd_AsphShn',\n",
              " 'Exterior2nd_Brk Cmn',\n",
              " 'Exterior2nd_BrkFace',\n",
              " 'Exterior2nd_CBlock',\n",
              " 'Exterior2nd_CmentBd',\n",
              " 'Exterior2nd_HdBoard',\n",
              " 'Exterior2nd_ImStucc',\n",
              " 'Exterior2nd_MetalSd',\n",
              " 'Exterior2nd_Other',\n",
              " 'Exterior2nd_Plywood',\n",
              " 'Exterior2nd_Stone',\n",
              " 'Exterior2nd_Stucco',\n",
              " 'Exterior2nd_VinylSd',\n",
              " 'Exterior2nd_Wd Sdng',\n",
              " 'Exterior2nd_Wd Shng',\n",
              " 'MasVnrType_0',\n",
              " 'MasVnrType_BrkCmn',\n",
              " 'MasVnrType_BrkFace',\n",
              " 'MasVnrType_None',\n",
              " 'MasVnrType_Stone',\n",
              " 'Foundation_BrkTil',\n",
              " 'Foundation_CBlock',\n",
              " 'Foundation_PConc',\n",
              " 'Foundation_Slab',\n",
              " 'Foundation_Stone',\n",
              " 'Foundation_Wood',\n",
              " 'Heating_Floor',\n",
              " 'Heating_GasA',\n",
              " 'Heating_GasW',\n",
              " 'Heating_Grav',\n",
              " 'Heating_OthW',\n",
              " 'Heating_Wall',\n",
              " 'Electrical_FuseA',\n",
              " 'Electrical_FuseF',\n",
              " 'Electrical_FuseP',\n",
              " 'Electrical_Mix',\n",
              " 'Electrical_SBrkr',\n",
              " 'GarageType_2Types',\n",
              " 'GarageType_Attchd',\n",
              " 'GarageType_Basment',\n",
              " 'GarageType_BuiltIn',\n",
              " 'GarageType_CarPort',\n",
              " 'GarageType_Detchd',\n",
              " 'GarageType_NA',\n",
              " 'SaleType_COD',\n",
              " 'SaleType_CWD',\n",
              " 'SaleType_Con',\n",
              " 'SaleType_ConLD',\n",
              " 'SaleType_ConLI',\n",
              " 'SaleType_ConLw',\n",
              " 'SaleType_New',\n",
              " 'SaleType_Oth',\n",
              " 'SaleType_WD']"
            ]
          },
          "metadata": {},
          "execution_count": 59
        }
      ]
    },
    {
      "cell_type": "code",
      "metadata": {
        "colab": {
          "base_uri": "https://localhost:8080/"
        },
        "id": "FLWV2OfrUBDO",
        "outputId": "136386cc-343f-46f1-cce0-2ce6191aee33"
      },
      "source": [
        "len(p_variables)"
      ],
      "execution_count": 60,
      "outputs": [
        {
          "output_type": "execute_result",
          "data": {
            "text/plain": [
              "221"
            ]
          },
          "metadata": {},
          "execution_count": 60
        }
      ]
    },
    {
      "cell_type": "code",
      "metadata": {
        "colab": {
          "base_uri": "https://localhost:8080/"
        },
        "id": "qd0GVOHIoBKq",
        "outputId": "04cff080-4340-4e7f-d34e-0c36f6c68edc"
      },
      "source": [
        "list_score = []\n",
        "for i in range(0, 10):\n",
        "  linear_model.fit(housing_ml[[p_variables[i]]], sale_price)\n",
        "  linear_model.score(housing_ml[[p_variables[i]]], sale_price)\n",
        "  list_score.append(linear_model.score(housing_ml[[p_variables[i]]], sale_price))\n",
        "print(list_score)"
      ],
      "execution_count": 84,
      "outputs": [
        {
          "output_type": "stream",
          "name": "stdout",
          "text": [
            "[0.0004803425911621418, 0.007103815434038263, 0.11215612336205594, 0.0696133153821118, 0.625651892462118, 0.00606154023811889, 0.27342162073249154, 0.25715139084530325, 0.22336446466934434, 0.14932026665622333]\n"
          ]
        }
      ]
    },
    {
      "cell_type": "code",
      "metadata": {
        "colab": {
          "base_uri": "https://localhost:8080/"
        },
        "id": "YGsNc6LtoaKc",
        "outputId": "c92dfad5-e957-426d-d164-87b4493f7f41"
      },
      "source": [
        "list_rmse = []\n",
        "for j in range(0, 10):\n",
        "  linear_model.fit(housing_ml[[p_variables[i]]], sale_price)\n",
        "  linear_model.score(housing_ml[[p_variables[i]]], sale_price)\n",
        "  np.sqrt(mean_squared_error(housing_ml[[p_variables[i]]], sale_price))\n",
        "  list_rmse.append(np.sqrt(mean_squared_error(housing_ml[[p_variables[i]]], sale_price)))\n",
        "print(list_rmse)"
      ],
      "execution_count": 89,
      "outputs": [
        {
          "output_type": "stream",
          "name": "stdout",
          "text": [
            "[197106.97903969162, 197106.97903969162, 197106.97903969162, 197106.97903969162, 197106.97903969162, 197106.97903969162, 197106.97903969162, 197106.97903969162, 197106.97903969162, 197106.97903969162]\n"
          ]
        }
      ]
    },
    {
      "cell_type": "code",
      "metadata": {
        "colab": {
          "base_uri": "https://localhost:8080/"
        },
        "id": "hpbVanX2VQdu",
        "outputId": "81a18056-bcac-4baf-b586-5315ec3546ce"
      },
      "source": [
        "# 2 pairs of top 10\n",
        "\n",
        "import itertools as it\n",
        "\n",
        "combinations = it.combinations(list_score, 2)\n",
        "combinations"
      ],
      "execution_count": 90,
      "outputs": [
        {
          "output_type": "execute_result",
          "data": {
            "text/plain": [
              "<itertools.combinations at 0x7fa496f61830>"
            ]
          },
          "metadata": {},
          "execution_count": 90
        }
      ]
    },
    {
      "cell_type": "code",
      "metadata": {
        "colab": {
          "base_uri": "https://localhost:8080/"
        },
        "id": "hx5-9dhRpjQ4",
        "outputId": "22cc8b87-1f94-481b-e58a-7a94ca1dc1f8"
      },
      "source": [
        "for i in combinations:\n",
        "    print(i, type(i))"
      ],
      "execution_count": 92,
      "outputs": [
        {
          "output_type": "stream",
          "name": "stdout",
          "text": [
            "(0.0004803425911621418, 0.007103815434038263) <class 'tuple'>\n",
            "(0.0004803425911621418, 0.11215612336205594) <class 'tuple'>\n",
            "(0.0004803425911621418, 0.0696133153821118) <class 'tuple'>\n",
            "(0.0004803425911621418, 0.625651892462118) <class 'tuple'>\n",
            "(0.0004803425911621418, 0.00606154023811889) <class 'tuple'>\n",
            "(0.0004803425911621418, 0.27342162073249154) <class 'tuple'>\n",
            "(0.0004803425911621418, 0.25715139084530325) <class 'tuple'>\n",
            "(0.0004803425911621418, 0.22336446466934434) <class 'tuple'>\n",
            "(0.0004803425911621418, 0.14932026665622333) <class 'tuple'>\n",
            "(0.007103815434038263, 0.11215612336205594) <class 'tuple'>\n",
            "(0.007103815434038263, 0.0696133153821118) <class 'tuple'>\n",
            "(0.007103815434038263, 0.625651892462118) <class 'tuple'>\n",
            "(0.007103815434038263, 0.00606154023811889) <class 'tuple'>\n",
            "(0.007103815434038263, 0.27342162073249154) <class 'tuple'>\n",
            "(0.007103815434038263, 0.25715139084530325) <class 'tuple'>\n",
            "(0.007103815434038263, 0.22336446466934434) <class 'tuple'>\n",
            "(0.007103815434038263, 0.14932026665622333) <class 'tuple'>\n",
            "(0.11215612336205594, 0.0696133153821118) <class 'tuple'>\n",
            "(0.11215612336205594, 0.625651892462118) <class 'tuple'>\n",
            "(0.11215612336205594, 0.00606154023811889) <class 'tuple'>\n",
            "(0.11215612336205594, 0.27342162073249154) <class 'tuple'>\n",
            "(0.11215612336205594, 0.25715139084530325) <class 'tuple'>\n",
            "(0.11215612336205594, 0.22336446466934434) <class 'tuple'>\n",
            "(0.11215612336205594, 0.14932026665622333) <class 'tuple'>\n",
            "(0.0696133153821118, 0.625651892462118) <class 'tuple'>\n",
            "(0.0696133153821118, 0.00606154023811889) <class 'tuple'>\n",
            "(0.0696133153821118, 0.27342162073249154) <class 'tuple'>\n",
            "(0.0696133153821118, 0.25715139084530325) <class 'tuple'>\n",
            "(0.0696133153821118, 0.22336446466934434) <class 'tuple'>\n",
            "(0.0696133153821118, 0.14932026665622333) <class 'tuple'>\n",
            "(0.625651892462118, 0.00606154023811889) <class 'tuple'>\n",
            "(0.625651892462118, 0.27342162073249154) <class 'tuple'>\n",
            "(0.625651892462118, 0.25715139084530325) <class 'tuple'>\n",
            "(0.625651892462118, 0.22336446466934434) <class 'tuple'>\n",
            "(0.625651892462118, 0.14932026665622333) <class 'tuple'>\n",
            "(0.00606154023811889, 0.27342162073249154) <class 'tuple'>\n",
            "(0.00606154023811889, 0.25715139084530325) <class 'tuple'>\n",
            "(0.00606154023811889, 0.22336446466934434) <class 'tuple'>\n",
            "(0.00606154023811889, 0.14932026665622333) <class 'tuple'>\n",
            "(0.27342162073249154, 0.25715139084530325) <class 'tuple'>\n",
            "(0.27342162073249154, 0.22336446466934434) <class 'tuple'>\n",
            "(0.27342162073249154, 0.14932026665622333) <class 'tuple'>\n",
            "(0.25715139084530325, 0.22336446466934434) <class 'tuple'>\n",
            "(0.25715139084530325, 0.14932026665622333) <class 'tuple'>\n",
            "(0.22336446466934434, 0.14932026665622333) <class 'tuple'>\n"
          ]
        }
      ]
    }
  ]
}